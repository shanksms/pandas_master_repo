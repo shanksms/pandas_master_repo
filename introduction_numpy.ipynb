{
  "nbformat": 4,
  "nbformat_minor": 0,
  "metadata": {
    "colab": {
      "provenance": [],
      "collapsed_sections": [
        "AWS86et-y40D",
        "p4hnqVKE1Q8w",
        "OFjwjZ9Q3h2I",
        "FFkO76jj4Y_h",
        "JxNkwHgaFZ23",
        "YVTm4Bc6Zu72",
        "MKvctLEOb-Go",
        "3cJa695eOENE",
        "rFErDu4NDE_x"
      ],
      "mount_file_id": "1c0pt4Fu5zPSF2hRfKtohIqFRVb99nYsn",
      "authorship_tag": "ABX9TyPl6GRvv43q0AaymX6cN+gO",
      "include_colab_link": true
    },
    "kernelspec": {
      "name": "python3",
      "display_name": "Python 3"
    },
    "language_info": {
      "name": "python"
    }
  },
  "cells": [
    {
      "cell_type": "markdown",
      "metadata": {
        "id": "view-in-github",
        "colab_type": "text"
      },
      "source": [
        "<a href=\"https://colab.research.google.com/github/shanksms/pandas_master_repo/blob/main/introduction_numpy.ipynb\" target=\"_parent\"><img src=\"https://colab.research.google.com/assets/colab-badge.svg\" alt=\"Open In Colab\"/></a>"
      ]
    },
    {
      "cell_type": "code",
      "execution_count": null,
      "metadata": {
        "id": "aC2vmpys98fE"
      },
      "outputs": [],
      "source": [
        "import numpy as np\n"
      ]
    },
    {
      "cell_type": "markdown",
      "source": [
        "# Creating array from scratch"
      ],
      "metadata": {
        "id": "AWS86et-y40D"
      }
    },
    {
      "cell_type": "code",
      "source": [
        "np.zeros(10, dtype=int)"
      ],
      "metadata": {
        "colab": {
          "base_uri": "https://localhost:8080/"
        },
        "id": "Zi1NJcpmy9Ro",
        "outputId": "4c7b46b5-efb4-4b48-d092-a197d7d1cc0e"
      },
      "execution_count": null,
      "outputs": [
        {
          "output_type": "execute_result",
          "data": {
            "text/plain": [
              "array([0, 0, 0, 0, 0, 0, 0, 0, 0, 0])"
            ]
          },
          "metadata": {},
          "execution_count": 70
        }
      ]
    },
    {
      "cell_type": "code",
      "source": [
        "np.ones((3, 5), dtype=float)"
      ],
      "metadata": {
        "colab": {
          "base_uri": "https://localhost:8080/"
        },
        "id": "Bd3m2SZdzHg7",
        "outputId": "5b687a9e-cfb5-4392-fd21-87f7e65557be"
      },
      "execution_count": null,
      "outputs": [
        {
          "output_type": "execute_result",
          "data": {
            "text/plain": [
              "array([[1., 1., 1., 1., 1.],\n",
              "       [1., 1., 1., 1., 1.],\n",
              "       [1., 1., 1., 1., 1.]])"
            ]
          },
          "metadata": {},
          "execution_count": 71
        }
      ]
    },
    {
      "cell_type": "code",
      "source": [
        "np.full((3, 5), 3.14)"
      ],
      "metadata": {
        "colab": {
          "base_uri": "https://localhost:8080/"
        },
        "id": "JhDOK_OKzN8D",
        "outputId": "35f5d7c4-7788-406f-cd8e-2d4728ff1598"
      },
      "execution_count": null,
      "outputs": [
        {
          "output_type": "execute_result",
          "data": {
            "text/plain": [
              "array([[3.14, 3.14, 3.14, 3.14, 3.14],\n",
              "       [3.14, 3.14, 3.14, 3.14, 3.14],\n",
              "       [3.14, 3.14, 3.14, 3.14, 3.14]])"
            ]
          },
          "metadata": {},
          "execution_count": 72
        }
      ]
    },
    {
      "cell_type": "code",
      "source": [
        "np.arange(0, 20, 2)"
      ],
      "metadata": {
        "colab": {
          "base_uri": "https://localhost:8080/"
        },
        "id": "x-6dN5CEzdZd",
        "outputId": "8f229234-3683-427c-c1bb-5d258c5cd29a"
      },
      "execution_count": null,
      "outputs": [
        {
          "output_type": "execute_result",
          "data": {
            "text/plain": [
              "array([ 0,  2,  4,  6,  8, 10, 12, 14, 16, 18])"
            ]
          },
          "metadata": {},
          "execution_count": 73
        }
      ]
    },
    {
      "cell_type": "code",
      "source": [
        "np.linspace(0, 1, 5)"
      ],
      "metadata": {
        "colab": {
          "base_uri": "https://localhost:8080/"
        },
        "id": "OmNX6VmnzlRC",
        "outputId": "a65d3475-c186-42f8-d32e-daeb4df7c704"
      },
      "execution_count": null,
      "outputs": [
        {
          "output_type": "execute_result",
          "data": {
            "text/plain": [
              "array([0.  , 0.25, 0.5 , 0.75, 1.  ])"
            ]
          },
          "metadata": {},
          "execution_count": 74
        }
      ]
    },
    {
      "cell_type": "markdown",
      "source": [
        "***Create a 3 x 3 array of uniformly distributed random values between 0 and 1***"
      ],
      "metadata": {
        "id": "B4oJvZijzwhy"
      }
    },
    {
      "cell_type": "code",
      "source": [
        "np.random.random((3, 3))"
      ],
      "metadata": {
        "colab": {
          "base_uri": "https://localhost:8080/"
        },
        "id": "MGglf66Zzp-6",
        "outputId": "f37f4097-dba7-4126-8415-91bc787cb0be"
      },
      "execution_count": null,
      "outputs": [
        {
          "output_type": "execute_result",
          "data": {
            "text/plain": [
              "array([[0.23453948, 0.78105246, 0.17394845],\n",
              "       [0.9587536 , 0.47328605, 0.97370615],\n",
              "       [0.90666479, 0.82680496, 0.94871404]])"
            ]
          },
          "metadata": {},
          "execution_count": 75
        }
      ]
    },
    {
      "cell_type": "markdown",
      "source": [
        "***Create a  3 X 3 array of normally distributed random values with mean as 0 and std deviation as 1***"
      ],
      "metadata": {
        "id": "zl3h-xZe0EkB"
      }
    },
    {
      "cell_type": "code",
      "source": [
        "np.random.normal(0, 1, (3, 3))"
      ],
      "metadata": {
        "colab": {
          "base_uri": "https://localhost:8080/"
        },
        "id": "SBtr2_6v0Y0c",
        "outputId": "59e18d6d-f370-469c-f59a-7e78f6fdca5d"
      },
      "execution_count": null,
      "outputs": [
        {
          "output_type": "execute_result",
          "data": {
            "text/plain": [
              "array([[ 0.08690775, -0.24947515, -0.26815872],\n",
              "       [ 0.92936998,  0.70355058, -2.12402244],\n",
              "       [-1.40475286,  1.11910085,  0.00213002]])"
            ]
          },
          "metadata": {},
          "execution_count": 76
        }
      ]
    },
    {
      "cell_type": "markdown",
      "source": [
        "**Create a 3 X 3 array of random integers in the interval [0, 10]**"
      ],
      "metadata": {
        "id": "1jL90jGB0nKL"
      }
    },
    {
      "cell_type": "code",
      "source": [
        "np.random.randint(0, 10, (3, 3))"
      ],
      "metadata": {
        "colab": {
          "base_uri": "https://localhost:8080/"
        },
        "id": "375hrDxI0v_q",
        "outputId": "905fb0f5-2244-4b2f-8d4a-86c73dc843eb"
      },
      "execution_count": null,
      "outputs": [
        {
          "output_type": "execute_result",
          "data": {
            "text/plain": [
              "array([[5, 8, 4],\n",
              "       [7, 0, 0],\n",
              "       [7, 7, 5]])"
            ]
          },
          "metadata": {},
          "execution_count": 77
        }
      ]
    },
    {
      "cell_type": "markdown",
      "source": [
        "**Identity matrix**"
      ],
      "metadata": {
        "id": "XLXKLEi505FR"
      }
    },
    {
      "cell_type": "code",
      "source": [
        "np.eye(3)"
      ],
      "metadata": {
        "colab": {
          "base_uri": "https://localhost:8080/"
        },
        "id": "8S0INSNu08P9",
        "outputId": "c2e233d4-5c4a-406e-f2ef-73d07168dc48"
      },
      "execution_count": null,
      "outputs": [
        {
          "output_type": "execute_result",
          "data": {
            "text/plain": [
              "array([[1., 0., 0.],\n",
              "       [0., 1., 0.],\n",
              "       [0., 0., 1.]])"
            ]
          },
          "metadata": {},
          "execution_count": 78
        }
      ]
    },
    {
      "cell_type": "markdown",
      "source": [
        "# Basics of numpy array"
      ],
      "metadata": {
        "id": "p4hnqVKE1Q8w"
      }
    },
    {
      "cell_type": "markdown",
      "source": [
        "***numpy array attributes***"
      ],
      "metadata": {
        "id": "ywGNxjBF1i3A"
      }
    },
    {
      "cell_type": "code",
      "source": [
        "np.random.seed(0) # for reproducibility\n",
        "x1 = np.random.randint(0, 10, (6,)) # one dimensional array\n",
        "x2 = np.random.randint(0, 10, (3, 4))\n",
        "x3 = np.random.randint(0, 10, (3, 4, 5))"
      ],
      "metadata": {
        "id": "NiSvQxSU1VMC"
      },
      "execution_count": null,
      "outputs": []
    },
    {
      "cell_type": "code",
      "source": [
        "print('x3 ndim:', x3.ndim)\n",
        "print('x3 shape:', x3.shape)\n",
        "print('x3 size:', x3.size)\n",
        "print('x3 dtype:', x3.dtype)\n",
        "print('item size:', x3.itemsize, 'bytes') # size of each element\n",
        "print('nbytes:', x3.nbytes, 'bytes') # total size of the array in bytes"
      ],
      "metadata": {
        "colab": {
          "base_uri": "https://localhost:8080/"
        },
        "id": "guH4FC2D2qCF",
        "outputId": "c006baae-e1f0-49c1-e837-0cb65c5131ec"
      },
      "execution_count": null,
      "outputs": [
        {
          "output_type": "stream",
          "name": "stdout",
          "text": [
            "x3 ndim: 3\n",
            "x3 shape: (3, 4, 5)\n",
            "x3 size: 60\n",
            "x3 dtype: int64\n",
            "item size: 8 bytes\n",
            "nbytes: 480 bytes\n"
          ]
        }
      ]
    },
    {
      "cell_type": "markdown",
      "source": [
        "# Array indexing"
      ],
      "metadata": {
        "id": "OFjwjZ9Q3h2I"
      }
    },
    {
      "cell_type": "code",
      "source": [
        "np.random.seed(0)\n",
        "x = np.random.randint(0, 10, (3, 4))\n",
        "x"
      ],
      "metadata": {
        "colab": {
          "base_uri": "https://localhost:8080/"
        },
        "id": "MsbedxCL3mnq",
        "outputId": "290f8038-f179-4efb-d4b1-cafa35a3ea58"
      },
      "execution_count": null,
      "outputs": [
        {
          "output_type": "execute_result",
          "data": {
            "text/plain": [
              "array([[5, 0, 3, 3],\n",
              "       [7, 9, 3, 5],\n",
              "       [2, 4, 7, 6]])"
            ]
          },
          "metadata": {},
          "execution_count": 81
        }
      ]
    },
    {
      "cell_type": "code",
      "source": [
        "x[2, 0]"
      ],
      "metadata": {
        "colab": {
          "base_uri": "https://localhost:8080/"
        },
        "id": "A8zm-wEZ39bl",
        "outputId": "eb83be65-63e1-40f6-d7b4-3e48187b776a"
      },
      "execution_count": null,
      "outputs": [
        {
          "output_type": "execute_result",
          "data": {
            "text/plain": [
              "2"
            ]
          },
          "metadata": {},
          "execution_count": 82
        }
      ]
    },
    {
      "cell_type": "code",
      "source": [
        "x[0, 0] = 12 # modifying value"
      ],
      "metadata": {
        "id": "C8qCK2aO4NH1"
      },
      "execution_count": null,
      "outputs": []
    },
    {
      "cell_type": "markdown",
      "source": [
        "# Array slicing\n",
        "\n",
        "```\n",
        "# This is formatted as code\n",
        "```\n",
        "\n"
      ],
      "metadata": {
        "id": "FFkO76jj4Y_h"
      }
    },
    {
      "cell_type": "markdown",
      "source": [
        "***The numpy slicing syntax follows that of standard python.***  \n",
        "\n",
        "x[start:stop:step]  \n",
        "***defaults:***  \n",
        "start = 0  \n",
        "stop = size  \n",
        "step = 1  "
      ],
      "metadata": {
        "id": "seWkTLYQ4hex"
      }
    },
    {
      "cell_type": "code",
      "source": [
        "x = np.arange(10)\n",
        "x"
      ],
      "metadata": {
        "colab": {
          "base_uri": "https://localhost:8080/"
        },
        "id": "eU2A0lmd5Rrp",
        "outputId": "52a885e5-f593-4f6b-973e-80976de62ad2"
      },
      "execution_count": null,
      "outputs": [
        {
          "output_type": "execute_result",
          "data": {
            "text/plain": [
              "array([0, 1, 2, 3, 4, 5, 6, 7, 8, 9])"
            ]
          },
          "metadata": {},
          "execution_count": 84
        }
      ]
    },
    {
      "cell_type": "code",
      "source": [
        "x[4:7]"
      ],
      "metadata": {
        "colab": {
          "base_uri": "https://localhost:8080/"
        },
        "id": "HqKvMN-a5WGX",
        "outputId": "f3e2cfb9-853c-4886-a8e8-4d368dfcbb5a"
      },
      "execution_count": null,
      "outputs": [
        {
          "output_type": "execute_result",
          "data": {
            "text/plain": [
              "array([4, 5, 6])"
            ]
          },
          "metadata": {},
          "execution_count": 85
        }
      ]
    },
    {
      "cell_type": "markdown",
      "source": [
        "***A potentially confusing case is when the step value is negative. In this case, the defaults for start and stop are swapped. This becomes a convenient way to reverse the array.***"
      ],
      "metadata": {
        "id": "bboA7aKa5b3n"
      }
    },
    {
      "cell_type": "code",
      "source": [
        "x[::-1]"
      ],
      "metadata": {
        "colab": {
          "base_uri": "https://localhost:8080/"
        },
        "id": "DR8IJ3Bz5uPn",
        "outputId": "c1dc6b9f-637b-4b7b-aac3-6286fbe1f8af"
      },
      "execution_count": null,
      "outputs": [
        {
          "output_type": "execute_result",
          "data": {
            "text/plain": [
              "array([9, 8, 7, 6, 5, 4, 3, 2, 1, 0])"
            ]
          },
          "metadata": {},
          "execution_count": 86
        }
      ]
    },
    {
      "cell_type": "code",
      "source": [
        "np.random.seed(0)\n",
        "x = np.random.randint(0, 10, (3, 4))\n",
        "x"
      ],
      "metadata": {
        "colab": {
          "base_uri": "https://localhost:8080/"
        },
        "id": "I21rQZEz55aw",
        "outputId": "0af35e16-6355-475c-c09d-cc592e80097b"
      },
      "execution_count": null,
      "outputs": [
        {
          "output_type": "execute_result",
          "data": {
            "text/plain": [
              "array([[5, 0, 3, 3],\n",
              "       [7, 9, 3, 5],\n",
              "       [2, 4, 7, 6]])"
            ]
          },
          "metadata": {},
          "execution_count": 87
        }
      ]
    },
    {
      "cell_type": "code",
      "source": [
        "x[:2, :3] # two rows three columns"
      ],
      "metadata": {
        "colab": {
          "base_uri": "https://localhost:8080/"
        },
        "id": "F-8ryEok6JGk",
        "outputId": "8f51f07e-b18b-4005-c04f-74538f37441c"
      },
      "execution_count": null,
      "outputs": [
        {
          "output_type": "execute_result",
          "data": {
            "text/plain": [
              "array([[5, 0, 3],\n",
              "       [7, 9, 3]])"
            ]
          },
          "metadata": {},
          "execution_count": 88
        }
      ]
    },
    {
      "cell_type": "markdown",
      "source": [
        "***Accessing single rows or single column***  \n",
        "you can do this by combining indexing and slicing, using an empty slice marked by a single colon.  "
      ],
      "metadata": {
        "id": "pmL3Bf9w6fIi"
      }
    },
    {
      "cell_type": "code",
      "source": [
        "print(x2[0, :]) # first row and all columns\n",
        "print(x2[:, 0]) # all rows and first columns"
      ],
      "metadata": {
        "colab": {
          "base_uri": "https://localhost:8080/"
        },
        "id": "VAaANPu46jq_",
        "outputId": "10727c23-448d-4a97-c2af-ce88663bf774"
      },
      "execution_count": null,
      "outputs": [
        {
          "output_type": "stream",
          "name": "stdout",
          "text": [
            "[3 5 2 4]\n",
            "[3 7 1]\n"
          ]
        }
      ]
    },
    {
      "cell_type": "markdown",
      "source": [
        "in case of row access, empty slice can be ommitted.  \n",
        "x2[0] is equivalent to x2[0, :]"
      ],
      "metadata": {
        "id": "UCVdGP-e74XC"
      }
    },
    {
      "cell_type": "markdown",
      "source": [
        "***Subarray as no-copy views***  \n",
        "numpy slices return views rather than copies. This is where python slice differs from numpy array slice.  \n",
        "This behaviour is kept to improve the performace since for large datasets it wont create copies when we slice.  \n",
        "Although, we can still create copies:  \n",
        "\n",
        "\n"
      ],
      "metadata": {
        "id": "fmLK-1rb9iIY"
      }
    },
    {
      "cell_type": "code",
      "source": [
        "np.random.seed(0)\n",
        "x = np.random.randint(0, 10, (3, 4))\n",
        "x_copy = x[:2, :2].copy()\n",
        "print(x_copy)"
      ],
      "metadata": {
        "colab": {
          "base_uri": "https://localhost:8080/"
        },
        "id": "XqJm-H-5-KfD",
        "outputId": "9b4389f4-850f-4784-85a0-fcd1a9175780"
      },
      "execution_count": null,
      "outputs": [
        {
          "output_type": "stream",
          "name": "stdout",
          "text": [
            "[[5 0]\n",
            " [7 9]]\n"
          ]
        }
      ]
    },
    {
      "cell_type": "markdown",
      "source": [
        "# Reshaping of array\n"
      ],
      "metadata": {
        "id": "ZMbYU1mZ-axS"
      }
    },
    {
      "cell_type": "code",
      "source": [
        "grid = np.arange(1, 10).reshape((3, 3))\n",
        "print(grid)"
      ],
      "metadata": {
        "colab": {
          "base_uri": "https://localhost:8080/"
        },
        "id": "oFHEutA--l-w",
        "outputId": "69becb63-60f6-4ef7-dee4-a88f66964797"
      },
      "execution_count": null,
      "outputs": [
        {
          "output_type": "stream",
          "name": "stdout",
          "text": [
            "[[1 2 3]\n",
            " [4 5 6]\n",
            " [7 8 9]]\n"
          ]
        }
      ]
    },
    {
      "cell_type": "markdown",
      "source": [
        "***Another common pattern is to reshape one dimensional array into two dimensional row or column matrix.***  \n",
        "There are two ways to do it.  \n"
      ],
      "metadata": {
        "id": "LDURDC-V-2tQ"
      }
    },
    {
      "cell_type": "code",
      "source": [
        "x = np.array([1, 2, 3])\n",
        "print(x.reshape((1, 3))) # row vector via reshape\n",
        "print()\n",
        "print(x[np.newaxis, :]) # row vector via newaxis\n",
        "print('#' * 50)\n",
        "print(x.reshape((3, 1))) # column vector via reshape\n",
        "print()\n",
        "print(x[:, np.newaxis]) # column vector via newaxis"
      ],
      "metadata": {
        "colab": {
          "base_uri": "https://localhost:8080/"
        },
        "id": "5bXcTorD_GD8",
        "outputId": "4565542d-a649-4d82-8069-f495ca82ab04"
      },
      "execution_count": null,
      "outputs": [
        {
          "output_type": "stream",
          "name": "stdout",
          "text": [
            "[[1 2 3]]\n",
            "\n",
            "[[1 2 3]]\n",
            "##################################################\n",
            "[[1]\n",
            " [2]\n",
            " [3]]\n",
            "\n",
            "[[1]\n",
            " [2]\n",
            " [3]]\n"
          ]
        }
      ]
    },
    {
      "cell_type": "markdown",
      "source": [
        "# combine, vstack, hstack, split, vsplit, hsplit"
      ],
      "metadata": {
        "id": "whxqQVU5BrzY"
      }
    },
    {
      "cell_type": "code",
      "source": [
        "'''\n",
        "For 1 D arrays\n",
        "'''\n",
        "x = np.array([1, 2, 3])\n",
        "y = np.array([3, 2, 1])\n",
        "print(np.concatenate([x, y])) \n"
      ],
      "metadata": {
        "colab": {
          "base_uri": "https://localhost:8080/"
        },
        "id": "vALxTG3lBy3q",
        "outputId": "6ec3d169-1d92-47c8-f71b-edbb176dc721"
      },
      "execution_count": null,
      "outputs": [
        {
          "output_type": "stream",
          "name": "stdout",
          "text": [
            "[1 2 3 3 2 1]\n"
          ]
        }
      ]
    },
    {
      "cell_type": "code",
      "source": [
        "'''\n",
        "For 2 D arrays\n",
        "'''\n",
        "grid = np.array([\n",
        "    [1, 2, 3],\n",
        "    [4, 5, 6]\n",
        "])\n",
        "\n",
        "print(np.concatenate([grid, grid])) # axis is 0 if not specified\n",
        "print(np.concatenate([grid, grid], axis = 1)) \n"
      ],
      "metadata": {
        "colab": {
          "base_uri": "https://localhost:8080/"
        },
        "id": "Zw7_TpkxCcJv",
        "outputId": "039c2346-e43b-4864-f08f-a456340e0374"
      },
      "execution_count": null,
      "outputs": [
        {
          "output_type": "stream",
          "name": "stdout",
          "text": [
            "[[1 2 3]\n",
            " [4 5 6]\n",
            " [1 2 3]\n",
            " [4 5 6]]\n",
            "[[1 2 3 1 2 3]\n",
            " [4 5 6 4 5 6]]\n"
          ]
        }
      ]
    },
    {
      "cell_type": "markdown",
      "source": [
        "***The opposite of concat is splitting which is implemented by split, hsplit and vsplit***"
      ],
      "metadata": {
        "id": "EluNBPArDXg4"
      }
    },
    {
      "cell_type": "code",
      "source": [
        "x = np.array([1, 2, 3, 99, 99, 3, 2, 1])\n",
        "print(np.split(x, [3, 5]))"
      ],
      "metadata": {
        "colab": {
          "base_uri": "https://localhost:8080/"
        },
        "id": "g6wm2pVRDfzr",
        "outputId": "29564f4b-8b5f-499a-d238-25c5b4fa21ec"
      },
      "execution_count": null,
      "outputs": [
        {
          "output_type": "stream",
          "name": "stdout",
          "text": [
            "[array([1, 2, 3]), array([99, 99]), array([3, 2, 1])]\n"
          ]
        }
      ]
    },
    {
      "cell_type": "markdown",
      "source": [
        "***Note if there are N split points, there will be N+1 arrays***"
      ],
      "metadata": {
        "id": "3GRziGBhD1vG"
      }
    },
    {
      "cell_type": "code",
      "source": [
        "grid = np.arange(16).reshape((4, 4))\n",
        "upper, lower = np.vsplit(grid, [2])\n",
        "print(grid)\n",
        "print(upper)\n",
        "print(lower)\n",
        "print('#' * 10)\n",
        "left, right = np.hsplit(grid, [2])\n",
        "print(left)\n",
        "print(right)"
      ],
      "metadata": {
        "colab": {
          "base_uri": "https://localhost:8080/"
        },
        "id": "rH4ic1crECZj",
        "outputId": "34e45765-eb32-4cf5-f20b-eb5adab4acae"
      },
      "execution_count": null,
      "outputs": [
        {
          "output_type": "stream",
          "name": "stdout",
          "text": [
            "[[ 0  1  2  3]\n",
            " [ 4  5  6  7]\n",
            " [ 8  9 10 11]\n",
            " [12 13 14 15]]\n",
            "[[0 1 2 3]\n",
            " [4 5 6 7]]\n",
            "[[ 8  9 10 11]\n",
            " [12 13 14 15]]\n",
            "##########\n",
            "[[ 0  1]\n",
            " [ 4  5]\n",
            " [ 8  9]\n",
            " [12 13]]\n",
            "[[ 2  3]\n",
            " [ 6  7]\n",
            " [10 11]\n",
            " [14 15]]\n"
          ]
        }
      ]
    },
    {
      "cell_type": "markdown",
      "source": [
        "# Universal functions"
      ],
      "metadata": {
        "id": "JxNkwHgaFZ23"
      }
    },
    {
      "cell_type": "markdown",
      "source": [
        "**Python defualt implementation (cpython) does some operations very slowly. This is due to the dynamic, interpreted nature of the language. That fact that types are flexible, sequence of operations can not be compiled down to efficient machine code as in c and Fortran.**"
      ],
      "metadata": {
        "id": "66s62I2qFjI2"
      }
    },
    {
      "cell_type": "code",
      "source": [
        "import numpy as np\n",
        "np.random.seed(1)\n",
        "\n",
        "def compute_reciprocals(values):\n",
        "  output = np.empty(len(values))\n",
        "  for i in range(len(values)):\n",
        "    output[i] = 1.0 / values[i]\n"
      ],
      "metadata": {
        "id": "FpmyXsp0GAa6"
      },
      "execution_count": null,
      "outputs": []
    },
    {
      "cell_type": "code",
      "source": [
        "big_array = np.random.randint(1, 100, size=1000000)\n",
        "%timeit compute_reciprocals(big_array)"
      ],
      "metadata": {
        "colab": {
          "base_uri": "https://localhost:8080/"
        },
        "id": "tEOjaHlZGhHc",
        "outputId": "afe8022f-bc61-4578-a410-3383fe8a9417"
      },
      "execution_count": null,
      "outputs": [
        {
          "output_type": "stream",
          "name": "stdout",
          "text": [
            "3.74 s ± 1.61 s per loop (mean ± std. dev. of 7 runs, 1 loop each)\n"
          ]
        }
      ]
    },
    {
      "cell_type": "markdown",
      "source": [
        "***To perform this kind of operations, numpy provides ufuncs. This is also known as vectorized operations.***"
      ],
      "metadata": {
        "id": "Eq4pL6aCITji"
      }
    },
    {
      "cell_type": "code",
      "source": [
        "%timeit (1.0 / big_array)"
      ],
      "metadata": {
        "colab": {
          "base_uri": "https://localhost:8080/"
        },
        "id": "2JHJlTxIIlEn",
        "outputId": "54be2821-62c4-49d3-d4a5-776c34681f6c"
      },
      "execution_count": null,
      "outputs": [
        {
          "output_type": "stream",
          "name": "stdout",
          "text": [
            "3.91 ms ± 1.19 ms per loop (mean ± std. dev. of 7 runs, 100 loops each)\n"
          ]
        }
      ]
    },
    {
      "cell_type": "code",
      "source": [
        "# define a numpy array\n",
        "x = np.arange(5)\n",
        "print(x + 2) # this is same as calling add ufunc print(np.add(x, 2))\n",
        "#/content/drive/MyDrive/Colab Notebooks/data_science_handbook/data/president_heights.csv"
      ],
      "metadata": {
        "colab": {
          "base_uri": "https://localhost:8080/"
        },
        "id": "McIELKe7XhS4",
        "outputId": "18588a5f-b93e-4ade-8ffd-8411253e3de9"
      },
      "execution_count": null,
      "outputs": [
        {
          "output_type": "stream",
          "name": "stdout",
          "text": [
            "[2 3 4 5 6]\n"
          ]
        }
      ]
    },
    {
      "cell_type": "markdown",
      "source": [
        "# Average Heights of US Presidents\n"
      ],
      "metadata": {
        "id": "YVTm4Bc6Zu72"
      }
    },
    {
      "cell_type": "code",
      "source": [
        "import pandas as pd\n",
        "data = pd.read_csv('/content/drive/MyDrive/Colab Notebooks/data_science_handbook/data/president_heights.csv')\n",
        "heights = np.array(data['height(cm)'])\n",
        "print(heights)"
      ],
      "metadata": {
        "colab": {
          "base_uri": "https://localhost:8080/"
        },
        "id": "0b6Aqx2SZ0L_",
        "outputId": "24bdd390-4ec5-412d-8c7a-eae52fde468a"
      },
      "execution_count": null,
      "outputs": [
        {
          "output_type": "stream",
          "name": "stdout",
          "text": [
            "[189 170 189 163 183 171 185 168 173 183 173 173 175 178 183 193 178 173\n",
            " 174 183 183 168 170 178 182 180 183 178 182 188 175 179 183 193 182 183\n",
            " 177 185 188 188 182 185]\n"
          ]
        }
      ]
    },
    {
      "cell_type": "code",
      "source": [
        "print('mean height: ', heights.mean())\n",
        "print('min height: ', heights.min())\n",
        "print('max height: ', heights.max())\n",
        "print('std : ', heights.std())\n",
        "print('25th percentile: ', np.percentile(heights, 25))\n",
        "print('median: ', np.median(heights))"
      ],
      "metadata": {
        "colab": {
          "base_uri": "https://localhost:8080/"
        },
        "id": "GwkjKOWAaLVf",
        "outputId": "3b0a7b1a-a210-4a55-d36c-13ca14ad0734"
      },
      "execution_count": null,
      "outputs": [
        {
          "output_type": "stream",
          "name": "stdout",
          "text": [
            "mean height:  179.73809523809524\n",
            "min height:  163\n",
            "max height:  193\n",
            "std :  6.931843442745892\n",
            "25th percentile:  174.25\n",
            "median:  182.0\n"
          ]
        }
      ]
    },
    {
      "cell_type": "code",
      "source": [
        "%matplotlib inline\n",
        "import matplotlib.pyplot as plt\n",
        "plt.style.use('seaborn-whitegrid')\n",
        "plt.hist(heights)\n",
        "plt.title('US Presidents Heights distribution')\n",
        "plt.xlabel('height (cm)')\n",
        "plt.ylabel('number')"
      ],
      "metadata": {
        "colab": {
          "base_uri": "https://localhost:8080/",
          "height": 308
        },
        "id": "Ym38xJoTa5sR",
        "outputId": "15330ffa-fa95-4900-a7f2-16c1305519f9"
      },
      "execution_count": null,
      "outputs": [
        {
          "output_type": "execute_result",
          "data": {
            "text/plain": [
              "Text(0, 0.5, 'number')"
            ]
          },
          "metadata": {},
          "execution_count": 103
        },
        {
          "output_type": "display_data",
          "data": {
            "text/plain": [
              "<Figure size 432x288 with 1 Axes>"
            ],
            "image/png": "[encoded data removed]"
          },
          "metadata": {}
        }
      ]
    },
    {
      "cell_type": "markdown",
      "source": [
        "# Broadcasting"
      ],
      "metadata": {
        "id": "MKvctLEOb-Go"
      }
    },
    {
      "cell_type": "markdown",
      "source": [
        "**Broadcasting is a set of rules by which numpy lets you apply binary operations (e.g. addition, subtraction, multiplication etc) between arrays of different sizes and shapes**"
      ],
      "metadata": {
        "id": "jkyHCdnFcJuf"
      }
    },
    {
      "cell_type": "code",
      "source": [
        "'''\n",
        "We can think of below as an operation in which 5 is stretched into an array array([5, 5, 5]) and then added to a\n",
        "'''\n",
        "a = np.array([0, 1, 2])\n",
        "print(a + 5)\n"
      ],
      "metadata": {
        "colab": {
          "base_uri": "https://localhost:8080/"
        },
        "id": "PE1JmOazcet_",
        "outputId": "799dbe00-7f9e-4340-f074-ddb0a48aa85c"
      },
      "execution_count": null,
      "outputs": [
        {
          "output_type": "stream",
          "name": "stdout",
          "text": [
            "[5 6 7]\n"
          ]
        }
      ]
    },
    {
      "cell_type": "markdown",
      "source": [
        "**Lets solve some complex broadcasting operations**"
      ],
      "metadata": {
        "id": "wsp-2ZUlk4K4"
      }
    },
    {
      "cell_type": "code",
      "source": [
        "a = np.arange(3)\n",
        "# Create a column vector\n",
        "b = np.arange(3)[:, np.newaxis]\n",
        "print(a)\n",
        "print(b)\n",
        "print(a + b)"
      ],
      "metadata": {
        "colab": {
          "base_uri": "https://localhost:8080/"
        },
        "id": "Kb5N3WDuk-qG",
        "outputId": "7e1eb09b-05af-4848-befd-ed82126fab02"
      },
      "execution_count": null,
      "outputs": [
        {
          "output_type": "stream",
          "name": "stdout",
          "text": [
            "[0 1 2]\n",
            "[[0]\n",
            " [1]\n",
            " [2]]\n",
            "[[0 1 2]\n",
            " [1 2 3]\n",
            " [2 3 4]]\n"
          ]
        }
      ]
    },
    {
      "cell_type": "markdown",
      "source": [
        "**Rules of broadcasting:**\n",
        "\n",
        "\n",
        "1.   If the two arrays differ in their number of dimensions, the shape of the one with fewer dimension is padded with ones on the left side.\n",
        "2.   If the shape of the two arrays does not match in any dimension, the array with shape equal to 1 in that dimension is stretched to match the other shape.\n",
        "3. If in any dimension the size disagree and neither is equal to 1, an error is raised.\n",
        "\n"
      ],
      "metadata": {
        "id": "cTSOvcoKmO7w"
      }
    },
    {
      "cell_type": "code",
      "source": [
        "M = np.ones((2, 3))\n",
        "a = np.arange(3)\n",
        "\n"
      ],
      "metadata": {
        "id": "g3XGIz1innFG"
      },
      "execution_count": null,
      "outputs": []
    },
    {
      "cell_type": "markdown",
      "source": [
        "\n",
        "\n",
        "*   M.shape is (2, 3)\n",
        "*   a.shape is (3, )\n",
        "\n",
        "By rule 1, shape of M remains (2, 3) but shape of a becomes (1, 3)\n",
        "\n",
        "By rule 2, we see that the first dimension disagrres, so we stretch this dimension to match.\n",
        "\n",
        "\n",
        "*   M.shape remains (2, 3)\n",
        "*   a.shape becomes (2, 3)\n",
        "\n",
        "\n",
        "\n"
      ],
      "metadata": {
        "id": "unoOujsloEpG"
      }
    },
    {
      "cell_type": "code",
      "source": [
        "# Lets look at second example\n",
        "a = np.arange(3).reshape((3, 1))\n",
        "b = np.arange(3)\n",
        "print(a + b)"
      ],
      "metadata": {
        "colab": {
          "base_uri": "https://localhost:8080/"
        },
        "id": "tyUzwstBo992",
        "outputId": "01fdee3f-66f2-44e3-f38e-b0bd2dd405be"
      },
      "execution_count": null,
      "outputs": [
        {
          "output_type": "stream",
          "name": "stdout",
          "text": [
            "[[0 1 2]\n",
            " [1 2 3]\n",
            " [2 3 4]]\n"
          ]
        }
      ]
    },
    {
      "cell_type": "markdown",
      "source": [
        "Again, we wil start by writing out the shape of the arrays:\n",
        "\n",
        "\n",
        "1.   a.shape is (3, 1)\n",
        "2.   b.shape is (3, )\n",
        "\n",
        "As per rule 1, shape of a remains same, but shape of b becomes (1, 3)\n",
        "As per rule 2, dimensions differ but we can upgrades ones to match the other.\n",
        "\n",
        "So, a becomes (3, 3) and b becomes (3, 3)\n",
        "\n",
        "\n"
      ],
      "metadata": {
        "id": "G376zGuRpohP"
      }
    },
    {
      "cell_type": "markdown",
      "source": [
        "# Broadcasting in practice"
      ],
      "metadata": {
        "id": "3cJa695eOENE"
      }
    },
    {
      "cell_type": "markdown",
      "source": [
        "**One common operation in datascience is to subtract rowwise mean from an array of data. Lets use broadcasting to achieve it**"
      ],
      "metadata": {
        "id": "ubnO0V_uOXkD"
      }
    },
    {
      "cell_type": "code",
      "source": [
        "rng = np.random.default_rng(seed=12345)\n",
        "# Following emits 10 observation. Each observation having three features.\n",
        "X = rng.random((10, 3))\n",
        "# computes mean of each column\n",
        "Xmean =np.mean(X, axis=0) \n",
        "print(Xmean)\n",
        "\n",
        "# Dmean each observation\n",
        "X_centered = X - Xmean\n",
        "print(X_centered)\n",
        "\n",
        "\n"
      ],
      "metadata": {
        "colab": {
          "base_uri": "https://localhost:8080/"
        },
        "id": "bnXlnOwTOnK0",
        "outputId": "627c67c2-9a8b-4f7f-c376-b30d73c166d3"
      },
      "execution_count": null,
      "outputs": [
        {
          "output_type": "stream",
          "name": "stdout",
          "text": [
            "[0.52871336 0.34038755 0.48587792]\n",
            "[[-3.01377333e-01 -2.36292124e-02  3.11487534e-01]\n",
            " [ 1.47541315e-01  5.07219985e-02 -1.53063996e-01]\n",
            " [ 6.95953982e-02 -1.53653367e-01  1.86878120e-01]\n",
            " [ 4.13089510e-01 -9.21418375e-02  4.63003228e-01]\n",
            " [ 1.38524098e-01 -2.44489617e-01 -4.40382576e-02]\n",
            " [ 3.57766564e-01  3.57065948e-01 -1.59405060e-01]\n",
            " [ 2.05214808e-01 -1.20252597e-01 -4.04283354e-01]\n",
            " [-3.68817754e-01 -2.87367194e-04 -2.06847700e-02]\n",
            " [-2.62292327e-01  4.75388851e-01 -2.92583534e-01]\n",
            " [-3.99244279e-01 -2.48722801e-01  1.12690090e-01]]\n"
          ]
        }
      ]
    },
    {
      "cell_type": "markdown",
      "source": [
        "**To double check we have done this correctly. If we take mean of each column now, it will be zero**"
      ],
      "metadata": {
        "id": "aC6eDHiEXx_D"
      }
    },
    {
      "cell_type": "code",
      "source": [
        "print(np.allclose(np.mean(X_centered, axis=0), np.array([0, 0, 0]), atol=0.01))"
      ],
      "metadata": {
        "colab": {
          "base_uri": "https://localhost:8080/"
        },
        "id": "SlQR9ennX7y5",
        "outputId": "a396bfca-d41e-4f83-a355-023f245593a0"
      },
      "execution_count": null,
      "outputs": [
        {
          "output_type": "stream",
          "name": "stdout",
          "text": [
            "True\n"
          ]
        }
      ]
    },
    {
      "cell_type": "markdown",
      "source": [
        "# Comparisons, masks and boolean logic\n"
      ],
      "metadata": {
        "id": "rFErDu4NDE_x"
      }
    },
    {
      "cell_type": "code",
      "source": [
        "import numpy as np\n",
        "from vega_datasets import data\n",
        "data.seattle_weather()"
      ],
      "metadata": {
        "colab": {
          "base_uri": "https://localhost:8080/",
          "height": 424
        },
        "id": "CpYS6WZFDeN5",
        "outputId": "2bf4e191-1b21-420f-8fa4-34ef8fb338da"
      },
      "execution_count": null,
      "outputs": [
        {
          "output_type": "execute_result",
          "data": {
            "text/plain": [
              "           date  precipitation  temp_max  temp_min  wind  weather\n",
              "0    2012-01-01            0.0      12.8       5.0   4.7  drizzle\n",
              "1    2012-01-02           10.9      10.6       2.8   4.5     rain\n",
              "2    2012-01-03            0.8      11.7       7.2   2.3     rain\n",
              "3    2012-01-04           20.3      12.2       5.6   4.7     rain\n",
              "4    2012-01-05            1.3       8.9       2.8   6.1     rain\n",
              "...         ...            ...       ...       ...   ...      ...\n",
              "1456 2015-12-27            8.6       4.4       1.7   2.9      fog\n",
              "1457 2015-12-28            1.5       5.0       1.7   1.3      fog\n",
              "1458 2015-12-29            0.0       7.2       0.6   2.6      fog\n",
              "1459 2015-12-30            0.0       5.6      -1.0   3.4      sun\n",
              "1460 2015-12-31            0.0       5.6      -2.1   3.5      sun\n",
              "\n",
              "[1461 rows x 6 columns]"
            ],
            "text/html": [
              "\n",
              "  <div id=\"df-9dc30993-3c2f-4e3b-a4ef-525aa4db3a65\">\n",
              "    <div class=\"colab-df-container\">\n",
              "      <div>\n",
              "<style scoped>\n",
              "    .dataframe tbody tr th:only-of-type {\n",
              "        vertical-align: middle;\n",
              "    }\n",
              "\n",
              "    .dataframe tbody tr th {\n",
              "        vertical-align: top;\n",
              "    }\n",
              "\n",
              "    .dataframe thead th {\n",
              "        text-align: right;\n",
              "    }\n",
              "</style>\n",
              "<table border=\"1\" class=\"dataframe\">\n",
              "  <thead>\n",
              "    <tr style=\"text-align: right;\">\n",
              "      <th></th>\n",
              "      <th>date</th>\n",
              "      <th>precipitation</th>\n",
              "      <th>temp_max</th>\n",
              "      <th>temp_min</th>\n",
              "      <th>wind</th>\n",
              "      <th>weather</th>\n",
              "    </tr>\n",
              "  </thead>\n",
              "  <tbody>\n",
              "    <tr>\n",
              "      <th>0</th>\n",
              "      <td>2012-01-01</td>\n",
              "      <td>0.0</td>\n",
              "      <td>12.8</td>\n",
              "      <td>5.0</td>\n",
              "      <td>4.7</td>\n",
              "      <td>drizzle</td>\n",
              "    </tr>\n",
              "    <tr>\n",
              "      <th>1</th>\n",
              "      <td>2012-01-02</td>\n",
              "      <td>10.9</td>\n",
              "      <td>10.6</td>\n",
              "      <td>2.8</td>\n",
              "      <td>4.5</td>\n",
              "      <td>rain</td>\n",
              "    </tr>\n",
              "    <tr>\n",
              "      <th>2</th>\n",
              "      <td>2012-01-03</td>\n",
              "      <td>0.8</td>\n",
              "      <td>11.7</td>\n",
              "      <td>7.2</td>\n",
              "      <td>2.3</td>\n",
              "      <td>rain</td>\n",
              "    </tr>\n",
              "    <tr>\n",
              "      <th>3</th>\n",
              "      <td>2012-01-04</td>\n",
              "      <td>20.3</td>\n",
              "      <td>12.2</td>\n",
              "      <td>5.6</td>\n",
              "      <td>4.7</td>\n",
              "      <td>rain</td>\n",
              "    </tr>\n",
              "    <tr>\n",
              "      <th>4</th>\n",
              "      <td>2012-01-05</td>\n",
              "      <td>1.3</td>\n",
              "      <td>8.9</td>\n",
              "      <td>2.8</td>\n",
              "      <td>6.1</td>\n",
              "      <td>rain</td>\n",
              "    </tr>\n",
              "    <tr>\n",
              "      <th>...</th>\n",
              "      <td>...</td>\n",
              "      <td>...</td>\n",
              "      <td>...</td>\n",
              "      <td>...</td>\n",
              "      <td>...</td>\n",
              "      <td>...</td>\n",
              "    </tr>\n",
              "    <tr>\n",
              "      <th>1456</th>\n",
              "      <td>2015-12-27</td>\n",
              "      <td>8.6</td>\n",
              "      <td>4.4</td>\n",
              "      <td>1.7</td>\n",
              "      <td>2.9</td>\n",
              "      <td>fog</td>\n",
              "    </tr>\n",
              "    <tr>\n",
              "      <th>1457</th>\n",
              "      <td>2015-12-28</td>\n",
              "      <td>1.5</td>\n",
              "      <td>5.0</td>\n",
              "      <td>1.7</td>\n",
              "      <td>1.3</td>\n",
              "      <td>fog</td>\n",
              "    </tr>\n",
              "    <tr>\n",
              "      <th>1458</th>\n",
              "      <td>2015-12-29</td>\n",
              "      <td>0.0</td>\n",
              "      <td>7.2</td>\n",
              "      <td>0.6</td>\n",
              "      <td>2.6</td>\n",
              "      <td>fog</td>\n",
              "    </tr>\n",
              "    <tr>\n",
              "      <th>1459</th>\n",
              "      <td>2015-12-30</td>\n",
              "      <td>0.0</td>\n",
              "      <td>5.6</td>\n",
              "      <td>-1.0</td>\n",
              "      <td>3.4</td>\n",
              "      <td>sun</td>\n",
              "    </tr>\n",
              "    <tr>\n",
              "      <th>1460</th>\n",
              "      <td>2015-12-31</td>\n",
              "      <td>0.0</td>\n",
              "      <td>5.6</td>\n",
              "      <td>-2.1</td>\n",
              "      <td>3.5</td>\n",
              "      <td>sun</td>\n",
              "    </tr>\n",
              "  </tbody>\n",
              "</table>\n",
              "<p>1461 rows × 6 columns</p>\n",
              "</div>\n",
              "      <button class=\"colab-df-convert\" onclick=\"convertToInteractive('df-9dc30993-3c2f-4e3b-a4ef-525aa4db3a65')\"\n",
              "              title=\"Convert this dataframe to an interactive table.\"\n",
              "              style=\"display:none;\">\n",
              "        \n",
              "  <svg xmlns=\"http://www.w3.org/2000/svg\" height=\"24px\"viewBox=\"0 0 24 24\"\n",
              "       width=\"24px\">\n",
              "    <path d=\"M0 0h24v24H0V0z\" fill=\"none\"/>\n",
              "    <path d=\"M18.56 5.44l.94 2.06.94-2.06 2.06-.94-2.06-.94-.94-2.06-.94 2.06-2.06.94zm-11 1L8.5 8.5l.94-2.06 2.06-.94-2.06-.94L8.5 2.5l-.94 2.06-2.06.94zm10 10l.94 2.06.94-2.06 2.06-.94-2.06-.94-.94-2.06-.94 2.06-2.06.94z\"/><path d=\"M17.41 7.96l-1.37-1.37c-.4-.4-.92-.59-1.43-.59-.52 0-1.04.2-1.43.59L10.3 9.45l-7.72 7.72c-.78.78-.78 2.05 0 2.83L4 21.41c.39.39.9.59 1.41.59.51 0 1.02-.2 1.41-.59l7.78-7.78 2.81-2.81c.8-.78.8-2.07 0-2.86zM5.41 20L4 18.59l7.72-7.72 1.47 1.35L5.41 20z\"/>\n",
              "  </svg>\n",
              "      </button>\n",
              "      \n",
              "  <style>\n",
              "    .colab-df-container {\n",
              "      display:flex;\n",
              "      flex-wrap:wrap;\n",
              "      gap: 12px;\n",
              "    }\n",
              "\n",
              "    .colab-df-convert {\n",
              "      background-color: #E8F0FE;\n",
              "      border: none;\n",
              "      border-radius: 50%;\n",
              "      cursor: pointer;\n",
              "      display: none;\n",
              "      fill: #1967D2;\n",
              "      height: 32px;\n",
              "      padding: 0 0 0 0;\n",
              "      width: 32px;\n",
              "    }\n",
              "\n",
              "    .colab-df-convert:hover {\n",
              "      background-color: #E2EBFA;\n",
              "      box-shadow: 0px 1px 2px rgba(60, 64, 67, 0.3), 0px 1px 3px 1px rgba(60, 64, 67, 0.15);\n",
              "      fill: #174EA6;\n",
              "    }\n",
              "\n",
              "    [theme=dark] .colab-df-convert {\n",
              "      background-color: #3B4455;\n",
              "      fill: #D2E3FC;\n",
              "    }\n",
              "\n",
              "    [theme=dark] .colab-df-convert:hover {\n",
              "      background-color: #434B5C;\n",
              "      box-shadow: 0px 1px 3px 1px rgba(0, 0, 0, 0.15);\n",
              "      filter: drop-shadow(0px 1px 2px rgba(0, 0, 0, 0.3));\n",
              "      fill: #FFFFFF;\n",
              "    }\n",
              "  </style>\n",
              "\n",
              "      <script>\n",
              "        const buttonEl =\n",
              "          document.querySelector('#df-9dc30993-3c2f-4e3b-a4ef-525aa4db3a65 button.colab-df-convert');\n",
              "        buttonEl.style.display =\n",
              "          google.colab.kernel.accessAllowed ? 'block' : 'none';\n",
              "\n",
              "        async function convertToInteractive(key) {\n",
              "          const element = document.querySelector('#df-9dc30993-3c2f-4e3b-a4ef-525aa4db3a65');\n",
              "          const dataTable =\n",
              "            await google.colab.kernel.invokeFunction('convertToInteractive',\n",
              "                                                     [key], {});\n",
              "          if (!dataTable) return;\n",
              "\n",
              "          const docLinkHtml = 'Like what you see? Visit the ' +\n",
              "            '<a target=\"_blank\" href=https://colab.research.google.com/notebooks/data_table.ipynb>data table notebook</a>'\n",
              "            + ' to learn more about interactive tables.';\n",
              "          element.innerHTML = '';\n",
              "          dataTable['output_type'] = 'display_data';\n",
              "          await google.colab.output.renderOutput(dataTable, element);\n",
              "          const docLink = document.createElement('div');\n",
              "          docLink.innerHTML = docLinkHtml;\n",
              "          element.appendChild(docLink);\n",
              "        }\n",
              "      </script>\n",
              "    </div>\n",
              "  </div>\n",
              "  "
            ]
          },
          "metadata": {},
          "execution_count": 110
        }
      ]
    },
    {
      "cell_type": "code",
      "source": [
        "df = data.seattle_weather().set_index('date')\n",
        "precipitation_series = df.loc[:, 'precipitation']\n",
        "# Get 2015 data\n",
        "rain_fall_mm = np.array(precipitation_series['2015'])\n",
        "print('shape of rain_fall_mm: ', rain_fall_mm.shape)\n"
      ],
      "metadata": {
        "colab": {
          "base_uri": "https://localhost:8080/"
        },
        "id": "cJrii9FjDx1r",
        "outputId": "db4c9966-d935-46e7-8a52-fbe927257dca"
      },
      "execution_count": null,
      "outputs": [
        {
          "output_type": "stream",
          "name": "stdout",
          "text": [
            "shape of rain_fall_mm:  (365,)\n"
          ]
        }
      ]
    },
    {
      "cell_type": "markdown",
      "source": [
        "**Lets visualize the histogram**\n"
      ],
      "metadata": {
        "id": "7nN99Ih3Ej7Q"
      }
    },
    {
      "cell_type": "code",
      "source": [
        "%matplotlib inline\n",
        "import matplotlib.pyplot as plt\n",
        "plt.style.use('seaborn-whitegrid')\n"
      ],
      "metadata": {
        "id": "sRhnSYE-EsPp"
      },
      "execution_count": null,
      "outputs": []
    },
    {
      "cell_type": "code",
      "source": [
        "plt.hist(rain_fall_mm, bins=40)"
      ],
      "metadata": {
        "colab": {
          "base_uri": "https://localhost:8080/",
          "height": 453
        },
        "id": "asjUDMKIE9i3",
        "outputId": "496767ea-a9ba-4302-d561-d0dc33e355d0"
      },
      "execution_count": null,
      "outputs": [
        {
          "output_type": "execute_result",
          "data": {
            "text/plain": [
              "(array([262.,  22.,  14.,   9.,  10.,   6.,   6.,   5.,   2.,   3.,   1.,\n",
              "          2.,   2.,   3.,   0.,   2.,   2.,   0.,   3.,   2.,   1.,   2.,\n",
              "          0.,   3.,   0.,   0.,   0.,   0.,   0.,   0.,   0.,   0.,   0.,\n",
              "          1.,   0.,   0.,   0.,   0.,   1.,   1.]),\n",
              " array([ 0.    ,  1.3975,  2.795 ,  4.1925,  5.59  ,  6.9875,  8.385 ,\n",
              "         9.7825, 11.18  , 12.5775, 13.975 , 15.3725, 16.77  , 18.1675,\n",
              "        19.565 , 20.9625, 22.36  , 23.7575, 25.155 , 26.5525, 27.95  ,\n",
              "        29.3475, 30.745 , 32.1425, 33.54  , 34.9375, 36.335 , 37.7325,\n",
              "        39.13  , 40.5275, 41.925 , 43.3225, 44.72  , 46.1175, 47.515 ,\n",
              "        48.9125, 50.31  , 51.7075, 53.105 , 54.5025, 55.9   ]),\n",
              " <a list of 40 Patch objects>)"
            ]
          },
          "metadata": {},
          "execution_count": 113
        },
        {
          "output_type": "display_data",
          "data": {
            "text/plain": [
              "<Figure size 432x288 with 1 Axes>"
            ],
            "image/png": "[encoded data removed]"
          },
          "metadata": {}
        }
      ]
    },
    {
      "cell_type": "code",
      "source": [
        "rng = np.random.default_rng(seed=1701)\n",
        "x = rng.integers(10, size=(3, 4))\n",
        "print(x)"
      ],
      "metadata": {
        "colab": {
          "base_uri": "https://localhost:8080/"
        },
        "id": "j_qwGT2zKc5L",
        "outputId": "fbde59d9-0e8d-4e95-87a7-00af2b0d18f4"
      },
      "execution_count": null,
      "outputs": [
        {
          "output_type": "stream",
          "name": "stdout",
          "text": [
            "[[9 4 0 3]\n",
            " [8 6 3 1]\n",
            " [3 7 4 0]]\n"
          ]
        }
      ]
    },
    {
      "cell_type": "code",
      "source": [
        "x < 6"
      ],
      "metadata": {
        "colab": {
          "base_uri": "https://localhost:8080/"
        },
        "id": "Ru0x80kaLeFn",
        "outputId": "cfb3e3ff-f8fb-42df-d21b-f5d33a36bbd3"
      },
      "execution_count": null,
      "outputs": [
        {
          "output_type": "execute_result",
          "data": {
            "text/plain": [
              "array([[False,  True,  True,  True],\n",
              "       [False, False,  True,  True],\n",
              "       [ True, False,  True,  True]])"
            ]
          },
          "metadata": {},
          "execution_count": 115
        }
      ]
    },
    {
      "cell_type": "code",
      "source": [
        "# How many values less than 6?\n",
        "np.count_nonzero(x < 6)\n",
        "# x < 6 gives a boolean array. np.count_nonzero counts True as 1 and False as 0\n"
      ],
      "metadata": {
        "colab": {
          "base_uri": "https://localhost:8080/"
        },
        "id": "qPK3Bb17Lh2_",
        "outputId": "5e20c8ca-db95-4b19-ba8e-3c918d002e6d"
      },
      "execution_count": null,
      "outputs": [
        {
          "output_type": "execute_result",
          "data": {
            "text/plain": [
              "8"
            ]
          },
          "metadata": {},
          "execution_count": 116
        }
      ]
    },
    {
      "cell_type": "code",
      "source": [
        "# Same information can be obtained as following\n",
        "np.sum(x < 6)"
      ],
      "metadata": {
        "colab": {
          "base_uri": "https://localhost:8080/"
        },
        "id": "COUx__6sMKb8",
        "outputId": "bfe305c5-1307-4445-e559-311a19520a6b"
      },
      "execution_count": null,
      "outputs": [
        {
          "output_type": "execute_result",
          "data": {
            "text/plain": [
              "8"
            ]
          },
          "metadata": {},
          "execution_count": 117
        }
      ]
    },
    {
      "cell_type": "code",
      "source": [
        "# How many values less than 6 in each row\n",
        "np.sum(x < 6, axis=1)"
      ],
      "metadata": {
        "colab": {
          "base_uri": "https://localhost:8080/"
        },
        "id": "rwf0t9yoMNma",
        "outputId": "16f1914a-5e58-4143-d39e-7a8f53a16337"
      },
      "execution_count": null,
      "outputs": [
        {
          "output_type": "execute_result",
          "data": {
            "text/plain": [
              "array([3, 2, 3])"
            ]
          },
          "metadata": {},
          "execution_count": 118
        }
      ]
    },
    {
      "cell_type": "code",
      "source": [
        "#Are there any values greater than 8?\n",
        "np.any(x < 0)"
      ],
      "metadata": {
        "colab": {
          "base_uri": "https://localhost:8080/"
        },
        "id": "y7j5dq-ONG7S",
        "outputId": "4e60f7e2-7fa6-49fb-d7ab-a038b363c0d4"
      },
      "execution_count": null,
      "outputs": [
        {
          "output_type": "execute_result",
          "data": {
            "text/plain": [
              "False"
            ]
          },
          "metadata": {},
          "execution_count": 119
        }
      ]
    },
    {
      "cell_type": "code",
      "source": [
        "# Are all values equal to 6?\n",
        "np.all(x == 6)"
      ],
      "metadata": {
        "colab": {
          "base_uri": "https://localhost:8080/"
        },
        "id": "NAAjwgkVNORK",
        "outputId": "010eab0c-a860-4220-cff4-5d345b0d8b49"
      },
      "execution_count": null,
      "outputs": [
        {
          "output_type": "execute_result",
          "data": {
            "text/plain": [
              "False"
            ]
          },
          "metadata": {},
          "execution_count": 120
        }
      ]
    },
    {
      "cell_type": "code",
      "source": [
        "print('Number of days without rain:', np.sum(rain_fall_mm == 0))\n",
        "print('Number of days with rain:', np.sum(rain_fall_mm != 0))\n",
        "print('Rainy days with < 5 mm:', np.sum((rain_fall_mm > 0) & (rain_fall_mm < 5 )))"
      ],
      "metadata": {
        "colab": {
          "base_uri": "https://localhost:8080/"
        },
        "id": "S_VGwH6jl4_I",
        "outputId": "81caa13c-ba92-4cfd-f740-30fbddbf2202"
      },
      "execution_count": null,
      "outputs": [
        {
          "output_type": "stream",
          "name": "stdout",
          "text": [
            "Number of days without rain: 221\n",
            "Number of days with rain: 144\n",
            "Rainy days with < 5 mm: 83\n"
          ]
        }
      ]
    },
    {
      "cell_type": "markdown",
      "source": [
        "# Boolean arrays as masks"
      ],
      "metadata": {
        "id": "00G_eRi2mt-t"
      }
    },
    {
      "cell_type": "markdown",
      "source": [
        "In preceding section we looked at aggregates being computed directly on the boolean arrays.\n",
        "A more powerful approach is to use boolean arrays as masks to select a particular subset of the data themselves. "
      ],
      "metadata": {
        "id": "x9xLnZkAm0eD"
      }
    },
    {
      "cell_type": "code",
      "source": [
        "rng = np.random.default_rng(seed=1701)\n",
        "x = rng.integers(10, size=(3, 4))\n",
        "print(x)"
      ],
      "metadata": {
        "colab": {
          "base_uri": "https://localhost:8080/"
        },
        "id": "5f0D6s6pohhT",
        "outputId": "aff57e1d-3f7b-47b0-d859-a96e2ca25c52"
      },
      "execution_count": null,
      "outputs": [
        {
          "output_type": "stream",
          "name": "stdout",
          "text": [
            "[[9 4 0 3]\n",
            " [8 6 3 1]\n",
            " [3 7 4 0]]\n"
          ]
        }
      ]
    },
    {
      "cell_type": "code",
      "source": [
        "x < 5"
      ],
      "metadata": {
        "colab": {
          "base_uri": "https://localhost:8080/"
        },
        "id": "5f3smhAFol1E",
        "outputId": "1fd6426c-ae7f-4ec7-c425-25d472a1ca0e"
      },
      "execution_count": null,
      "outputs": [
        {
          "output_type": "execute_result",
          "data": {
            "text/plain": [
              "array([[False,  True,  True,  True],\n",
              "       [False, False,  True,  True],\n",
              "       [ True, False,  True,  True]])"
            ]
          },
          "metadata": {},
          "execution_count": 125
        }
      ]
    },
    {
      "cell_type": "code",
      "source": [
        "x[x < 5]"
      ],
      "metadata": {
        "colab": {
          "base_uri": "https://localhost:8080/"
        },
        "id": "fSJv0ZDoosgW",
        "outputId": "8cd10260-d496-40f4-fb5e-f060e9cdd422"
      },
      "execution_count": null,
      "outputs": [
        {
          "output_type": "execute_result",
          "data": {
            "text/plain": [
              "array([4, 0, 3, 3, 1, 3, 4, 0])"
            ]
          },
          "metadata": {},
          "execution_count": 126
        }
      ]
    },
    {
      "cell_type": "markdown",
      "source": [
        "**With above information, we can compute any thing we want.**"
      ],
      "metadata": {
        "id": "H5hUoGgGo-A1"
      }
    },
    {
      "cell_type": "code",
      "source": [
        "# Construct a mask of all rainy days\n",
        "rainy = (rain_fall_mm > 0)\n",
        "# Construct a mask for all summer days\n",
        "days = np.arange(365)\n",
        "summer = (days > 172) & (days < 262)\n",
        "\n",
        "print('median precip on rainy days:', np.median(rain_fall_mm[rainy]))\n",
        "print('median precip on rainy non summer days:', np.median(rain_fall_mm[rainy & ~summer]))"
      ],
      "metadata": {
        "colab": {
          "base_uri": "https://localhost:8080/"
        },
        "id": "MCY7VC8jpDzu",
        "outputId": "82f4ddd6-81b0-4646-f7b6-2552be42ec83"
      },
      "execution_count": null,
      "outputs": [
        {
          "output_type": "stream",
          "name": "stdout",
          "text": [
            "median precip on rainy days: 3.8\n",
            "median precip on rainy non summer days: 4.1\n"
          ]
        }
      ]
    },
    {
      "cell_type": "markdown",
      "source": [
        "**Using the keywords and/or versus &/|**  \n",
        "This is the difference: **and** and **or** operate on the whole object while & and | operate on individual elements with in the object\\"
      ],
      "metadata": {
        "id": "aw5tnz8vwrOt"
      }
    },
    {
      "cell_type": "markdown",
      "source": [
        "# Fancy indexing"
      ],
      "metadata": {
        "id": "9jbpTfDfyx-z"
      }
    },
    {
      "cell_type": "markdown",
      "source": [
        "**It means passing an array of indices to access multiple array elements at once**"
      ],
      "metadata": {
        "id": "h5oerum_y4rx"
      }
    },
    {
      "cell_type": "code",
      "source": [
        "import numpy as np\n",
        "rng = np.random.default_rng(seed=1701)\n",
        "x = rng.integers(100, size=10)\n",
        "print(x)"
      ],
      "metadata": {
        "colab": {
          "base_uri": "https://localhost:8080/",
          "height": 0
        },
        "id": "XDPybSAjzAix",
        "outputId": "25e8b339-b6e5-4a54-bb55-318bb6cb5046"
      },
      "execution_count": 131,
      "outputs": [
        {
          "output_type": "stream",
          "name": "stdout",
          "text": [
            "[90 40  9 30 80 67 39 15 33 79]\n"
          ]
        }
      ]
    },
    {
      "cell_type": "code",
      "source": [
        "ind = [3, 7, 4]\n",
        "x[ind]"
      ],
      "metadata": {
        "colab": {
          "base_uri": "https://localhost:8080/",
          "height": 0
        },
        "id": "6y59_7VUzUCD",
        "outputId": "a52f25fc-97b2-4864-e7e7-f5d6fb803aab"
      },
      "execution_count": 132,
      "outputs": [
        {
          "output_type": "execute_result",
          "data": {
            "text/plain": [
              "array([30, 15, 80])"
            ]
          },
          "metadata": {},
          "execution_count": 132
        }
      ]
    },
    {
      "cell_type": "markdown",
      "source": [
        "**When using arrays of indices, the shape of the result reflects the shape of the index arrays rather than the shape of the array being indexed:**\n",
        "\n",
        "```\n",
        "# This is formatted as code\n",
        "```\n",
        "\n"
      ],
      "metadata": {
        "id": "t1TwVgjOziWK"
      }
    },
    {
      "cell_type": "code",
      "source": [
        "ind = np.array([\n",
        "    [3, 7],\n",
        "    [4, 5]\n",
        "])\n",
        "x[ind]"
      ],
      "metadata": {
        "colab": {
          "base_uri": "https://localhost:8080/",
          "height": 0
        },
        "id": "u1CM2kdyztp7",
        "outputId": "7923566b-3f82-416b-d566-290b5a5fe5dd"
      },
      "execution_count": 135,
      "outputs": [
        {
          "output_type": "execute_result",
          "data": {
            "text/plain": [
              "array([[30, 15],\n",
              "       [80, 67]])"
            ]
          },
          "metadata": {},
          "execution_count": 135
        }
      ]
    },
    {
      "cell_type": "markdown",
      "source": [
        "**Fancy indexing works in multiple dimensions**"
      ],
      "metadata": {
        "id": "GDH7QTLs6o6Q"
      }
    },
    {
      "cell_type": "code",
      "source": [
        "X = np.arange(12).reshape((3, 4))\n",
        "X"
      ],
      "metadata": {
        "colab": {
          "base_uri": "https://localhost:8080/",
          "height": 0
        },
        "id": "YmetOH656s12",
        "outputId": "666fa6b5-46a2-480f-9426-8176e8833f54"
      },
      "execution_count": 137,
      "outputs": [
        {
          "output_type": "execute_result",
          "data": {
            "text/plain": [
              "array([[ 0,  1,  2,  3],\n",
              "       [ 4,  5,  6,  7],\n",
              "       [ 8,  9, 10, 11]])"
            ]
          },
          "metadata": {},
          "execution_count": 137
        }
      ]
    },
    {
      "cell_type": "code",
      "source": [
        "row = np.array([0, 1, 2])\n",
        "col = np.array([2, 1, 3])"
      ],
      "metadata": {
        "id": "SvrlBPXQ61Ba"
      },
      "execution_count": 138,
      "outputs": []
    },
    {
      "cell_type": "code",
      "source": [
        "X[row, col]"
      ],
      "metadata": {
        "colab": {
          "base_uri": "https://localhost:8080/",
          "height": 0
        },
        "id": "b5pXlP9Q69TB",
        "outputId": "9cdad750-d569-4d05-8c48-983c017634c5"
      },
      "execution_count": 139,
      "outputs": [
        {
          "output_type": "execute_result",
          "data": {
            "text/plain": [
              "array([ 2,  5, 11])"
            ]
          },
          "metadata": {},
          "execution_count": 139
        }
      ]
    },
    {
      "cell_type": "markdown",
      "source": [
        "The pairing of indices in fancy indexing follows all the broadcasting rules that were mentioned before."
      ],
      "metadata": {
        "id": "JONSKJIa6N3q"
      }
    },
    {
      "cell_type": "code",
      "source": [
        "X[row[: , np.newaxis], col] # pick up pen and paper and apply broadcasing rule on row[:, np.nexaxis] and col"
      ],
      "metadata": {
        "colab": {
          "base_uri": "https://localhost:8080/",
          "height": 0
        },
        "id": "6stV3iGo6Z7k",
        "outputId": "a2fb7bc9-49e5-4f56-b182-d2c60de6ed91"
      },
      "execution_count": 141,
      "outputs": [
        {
          "output_type": "execute_result",
          "data": {
            "text/plain": [
              "array([[ 2,  1,  3],\n",
              "       [ 6,  5,  7],\n",
              "       [10,  9, 11]])"
            ]
          },
          "metadata": {},
          "execution_count": 141
        }
      ]
    },
    {
      "cell_type": "markdown",
      "source": [
        "# Combined indexing"
      ],
      "metadata": {
        "id": "XTCyskkP7UG5"
      }
    },
    {
      "cell_type": "code",
      "source": [
        "X = np.arange(12).reshape((3, 4))\n",
        "# Combine fancy and simple indices\n",
        "X[2, [2, 0, 1]] "
      ],
      "metadata": {
        "colab": {
          "base_uri": "https://localhost:8080/",
          "height": 0
        },
        "id": "eIWRhfq67YB4",
        "outputId": "284825b9-d03b-4f77-e3d5-117fe3d80c35"
      },
      "execution_count": 142,
      "outputs": [
        {
          "output_type": "execute_result",
          "data": {
            "text/plain": [
              "array([10,  8,  9])"
            ]
          },
          "metadata": {},
          "execution_count": 142
        }
      ]
    },
    {
      "cell_type": "code",
      "source": [
        "# Combine fancy indices with slicing"
      ],
      "metadata": {
        "id": "8TpQsSUN8Jx5"
      },
      "execution_count": null,
      "outputs": []
    },
    {
      "cell_type": "code",
      "source": [
        "X[1:, [2, 0, 1]]"
      ],
      "metadata": {
        "colab": {
          "base_uri": "https://localhost:8080/",
          "height": 0
        },
        "id": "SsfNBYgb8Uio",
        "outputId": "7421a98e-e16d-4af9-93af-309a11910584"
      },
      "execution_count": 143,
      "outputs": [
        {
          "output_type": "execute_result",
          "data": {
            "text/plain": [
              "array([[ 6,  4,  5],\n",
              "       [10,  8,  9]])"
            ]
          },
          "metadata": {},
          "execution_count": 143
        }
      ]
    },
    {
      "cell_type": "markdown",
      "source": [
        "# Selecting Random Points"
      ],
      "metadata": {
        "id": "loFyjMDV9nka"
      }
    }
  ]
}