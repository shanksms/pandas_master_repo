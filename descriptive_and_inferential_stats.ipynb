{
  "nbformat": 4,
  "nbformat_minor": 0,
  "metadata": {
    "colab": {
      "provenance": [],
      "mount_file_id": "1mQl2m0z5AWqjB6gh2on8IVv6BANGiEL5",
      "authorship_tag": "ABX9TyOroey3whIn4joFiSizlYqG",
      "include_colab_link": true
    },
    "kernelspec": {
      "name": "python3",
      "display_name": "Python 3"
    },
    "language_info": {
      "name": "python"
    }
  },
  "cells": [
    {
      "cell_type": "markdown",
      "metadata": {
        "id": "view-in-github",
        "colab_type": "text"
      },
      "source": [
        "<a href=\"https://colab.research.google.com/github/shanksms/pandas_master_repo/blob/main/descriptive_and_inferential_stats.ipynb\" target=\"_parent\"><img src=\"https://colab.research.google.com/assets/colab-badge.svg\" alt=\"Open In Colab\"/></a>"
      ]
    },
    {
      "cell_type": "code",
      "execution_count": 2,
      "metadata": {
        "id": "HNjw3ZzKLY_H"
      },
      "outputs": [],
      "source": [
        "import pandas as pd\n",
        "import numpy as np\n",
        "import math"
      ]
    },
    {
      "cell_type": "markdown",
      "source": [
        "# Descriptive versus inferential statistics\n"
      ],
      "metadata": {
        "id": "SbV6sYl7MN_E"
      }
    },
    {
      "cell_type": "markdown",
      "source": [
        "What comes to mind when you hear the word “statistics”? Is it calculating mean, median, mode, charts, bell curves, and other tools to describe data? This is the most commonly understood part of statistics, called descriptive statistics, and we use it to summarize data. After all, is it more meaningful to scroll through a million records of data or have it summarized? We will cover this area of statistics first.\n",
        "\n",
        "Inferential statistics tries to uncover attributes about a larger population, often based on a sample. It is often misunderstood and less intuitive than descriptive statistics. Often we are interested in studying a group that is too large to observe (e.g., average height of adolescents in North America) and we have to resort to using only a few members of that group to infer conclusions about them. As you can guess, this is not easy to get right. After all, we are trying to represent a population with a sample that may not be representative. We will explore these caveats along the way."
      ],
      "metadata": {
        "id": "231OVcSIMh93"
      }
    },
    {
      "cell_type": "markdown",
      "source": [],
      "metadata": {
        "id": "l-U1XRDLMH2S"
      }
    },
    {
      "cell_type": "markdown",
      "source": [
        "**Descriptive Statistics**  \n",
        "**Mean**"
      ],
      "metadata": {
        "id": "7PiDrMlQ03c5"
      }
    },
    {
      "cell_type": "code",
      "source": [
        "# Number of pets each person owns\n",
        "sample = [1, 3, 2, 5, 7, 0, 2, 3]\n",
        "\n",
        "mean = sum(sample) / len(sample)\n",
        "\n",
        "print(mean) # prints 2.875"
      ],
      "metadata": {
        "colab": {
          "base_uri": "https://localhost:8080/"
        },
        "id": "RPwSRG-T1JJR",
        "outputId": "4a7ee62d-c4e0-454b-f21e-21f6bd4dde61"
      },
      "execution_count": 1,
      "outputs": [
        {
          "output_type": "stream",
          "name": "stdout",
          "text": [
            "2.875\n"
          ]
        }
      ]
    },
    {
      "cell_type": "markdown",
      "source": [
        "**Weighted Mean**  \n"
      ],
      "metadata": {
        "id": "R9cFKuxd1c8U"
      }
    },
    {
      "cell_type": "code",
      "source": [
        "\n",
        "sample = [90, 80, 63, 87]\n",
        "weights = [.20, .20, .20, .40]\n",
        "w_mean = math.fsum([w * x for w, x in zip(weights, sample)]) / math.fsum(weights)\n",
        "print(w_mean)"
      ],
      "metadata": {
        "colab": {
          "base_uri": "https://localhost:8080/"
        },
        "id": "NT-H9sWe2InS",
        "outputId": "fd390904-8a4a-440c-c1eb-4543a1e975ac"
      },
      "execution_count": 3,
      "outputs": [
        {
          "output_type": "stream",
          "name": "stdout",
          "text": [
            "81.4\n"
          ]
        }
      ]
    },
    {
      "cell_type": "markdown",
      "source": [
        "**Median**  \n",
        "Median can be helpful alternative when data is skewed by few outliers.  \n",
        "Here’s an interesting anecdote to understand why. In 1986, the mean annual starting salary of geography graduates from the University of North Carolina at Chapel Hill was $250,000.  \n",
        "Other universities averaged $22,000. Wow, UNC-CH must have an amazing geography program!\n",
        "\n",
        "But in reality, what was so lucrative about UNC’s geography program? Well…Michael Jordan was one of their graduates. One of the most famous NBA players of all time indeed graduated with a geography degree from UNC. However, he started his career playing basketball, not studying maps. Obviously, this is a confounding variable that has created a huge outlier, and it majorly skewed the income average.  \n",
        "\n",
        "**When your median is very different from mean, that means you have outliers**"
      ],
      "metadata": {
        "id": "Iftfrg7n4TUd"
      }
    },
    {
      "cell_type": "markdown",
      "source": [
        "**THE MEDIAN IS A QUANTILE**  \n",
        "There is a concept of quantiles in descriptive statistics. The concept of quantiles is essentially the same as a median, just cutting the data in other places besides the middle. The median is actually the 50% quantile, or the value where 50% of ordered values are behind it. Then there are the 25%, 50%, and 75% quantiles, which are known as quartiles because they cut data in 25% increments."
      ],
      "metadata": {
        "id": "OOiSYRaa5IE3"
      }
    },
    {
      "cell_type": "code",
      "source": [],
      "metadata": {
        "id": "NJrPYUUb5BmR"
      },
      "execution_count": null,
      "outputs": []
    },
    {
      "cell_type": "code",
      "source": [
        "# Number of pets each person owns\n",
        "sample = [0, 1, 5, 7, 9, 10, 14]\n",
        "\n",
        "def median(sample):\n",
        "  ordered = sorted(sample)\n",
        "  mid = int(len(sample) / 2) - 1 if len(sample) % 2 == 0 else int(len(sample) / 2)\n",
        "  if len(sample) % 2 == 0:\n",
        "    return (sample[mid] + sample[mid + 1]) / 2\n",
        "  else:\n",
        "    return sample[mid]\n",
        "  \n",
        "print(median(sample))\n"
      ],
      "metadata": {
        "colab": {
          "base_uri": "https://localhost:8080/"
        },
        "id": "UVkodSYS4urt",
        "outputId": "8898b77d-43a3-4077-ed28-66bba88c42f3"
      },
      "execution_count": 4,
      "outputs": [
        {
          "output_type": "stream",
          "name": "stdout",
          "text": [
            "7\n"
          ]
        }
      ]
    },
    {
      "cell_type": "markdown",
      "source": [
        "**Mode**  \n",
        "The mode is the most frequently occurring set of values. It primarily becomes useful when your data is repetitive and you want to find which values occur the most frequently.  \n",
        "\n",
        "When no value occurs more than once, there is no mode. When two values occur with an equal amount of frequency, then the dataset is considered bimodal. In Example 3-5 we calculate the mode for our pet dataset, and sure enough we see this is bimodal as both 2 and 3 occur the most (and equally) as often.\n"
      ],
      "metadata": {
        "id": "Kl_KEGHJDcCU"
      }
    },
    {
      "cell_type": "code",
      "source": [
        "# Number of pets each person owns\n",
        "from collections import defaultdict\n",
        "from collections import Counter\n",
        "\n",
        "sample = [1, 3, 2, 5, 7, 0, 2, 3]\n",
        "def mode(sample):\n",
        "  frequency_counter = dict(Counter(sample))\n",
        "  max_count = max(frequency_counter.values())\n",
        "  if max_count == 1:\n",
        "    return None\n",
        "  return [pet_count for pet_count in set(sample) if frequency_counter[pet_count] == max_count]\n",
        "\n",
        "print(mode(sample))\n"
      ],
      "metadata": {
        "colab": {
          "base_uri": "https://localhost:8080/"
        },
        "id": "swhv8baUDj6F",
        "outputId": "074827ae-d0dd-4b2d-abc6-f8f1cb2e962a"
      },
      "execution_count": 8,
      "outputs": [
        {
          "output_type": "stream",
          "name": "stdout",
          "text": [
            "[2, 3]\n"
          ]
        }
      ]
    }
  ]
}